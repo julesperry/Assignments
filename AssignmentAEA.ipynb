{
 "cells": [
  {
   "cell_type": "code",
   "execution_count": null,
   "metadata": {
    "collapsed": true
   },
   "outputs": [],
   "source": []
  },
  {
   "cell_type": "markdown",
   "metadata": {},
   "source": [
    "# Changes in unemployment benefit duration: Looking back to predict what is coming\n",
    "By Martijn de Leeuw (975139) and Jules Perry (435132)\n",
    "\n",
    "## Motivation\n",
    " [The Dutch government announced](https://vcp.nl/symphony/extension/sm_richtext_redactor/getfile/?name=WW-factsheet_werknemers.pdf) a cutback of the unemployment benefits duration from a maximum of 38 months to a maximum of 24 months starting the first of January 2016. The duration will be lowered in steps starting the first of January 2016. The scientific literature on this topic recognizes multiple effects of a change in umeployment benefits duration. [Boeri and van Oers](http://press.princeton.edu/releases/m10142.pdf) recognize both postive and negative effects from a shortening of the unemployment benefits duration on unemployment rates. The job search effect and the taxation effect result in lower unemployment rates when the unemployment benefits duration is shortened. However, the job creation effect predicts an increase in unemployment rates due to the shortening of the unemployment duration effect (due to a decrease in consumption). In this study we examine the effects of a change in unemployment benefits duration in 2006 to predict the possible effects of the 2016 change. In 2006 the [duration of unemployment benefits](www.ru.nl/publish/pages/516298/nice_12103.pdf) in the Netherlands was lowered from a maximum of 5 years to a maximum of 38 months \n",
    "\n",
    "## Research Question\n",
    "What is the effect of a shortening of unemployment benefits duration on unemployment rates? \n",
    "\n",
    "## Answer\n",
    "The main result is that a lower duration of unemployment benefits has no signifcant effect on the unemployment rate.\n",
    "\n",
    "## Method\n",
    "Our model is an extension from the basic model [developed by Asif](http://search.proquest.com/openview/8001e7291e4800159fe911928ed4e35e/1?pq-origsite=gscholar&cbl=696344) . Asif found four factors that influence unemployment greatly:  growth of GDP, growth of population, exchange rate and inflation. Our current study focuses on the impact of a change in the unemployment benefits duration in the Netherlands. To this end the model is extended by adding the variable “Benefits” (BEN) to the basic model. To make the most of our analysis we used a log – legit regression model.  This leads to the following model: \n",
    "\n",
    "\n",
    "\n",
    "\n"
   ]
  },
  {
   "cell_type": "markdown",
   "metadata": {},
   "source": [
    "\\begin{equation*}\n",
    "LogUE=\\beta0 + \\beta1 GDP + \\beta2 POPL + \\beta3 ER + \\beta4 INF + \\beta5 BEN + \\epsilon\n",
    "\\end{equation*}\n",
    "\n"
   ]
  },
  {
   "cell_type": "markdown",
   "metadata": {},
   "source": [
    "The data on [GDP growth](http://statline.cbs.nl/Statweb/publication/?DM=SLNL&PA=82262ned&D1=0-187&D2=12-20&VW=T) and [population growth](http://statline.cbs.nl/Statweb/publication/?DM=SLNL&PA=37943ned&D1=6&D2=12-13%2c88%2c92%2c96-98%2c100%2c105%2c109%2c113%2c117%2c122%2c126%2c130%2c134%2c139%2c143%2c147%2c151%2c156%2c160%2c164%2c168%2c173%2c177%2c181-183%2c185%2c190%2c194%2c198%2c202%2c207%2c211%2c215%2c219%2c224%2c228%2c232%2c236%2c241%2c245%2c249%2c253%2c258%2c262%2c266-268%2c270%2c275%2c279%2c283%2c287%2c292%2c296%2c300%2c304%2c309%2c313%2c317%2c321%2c352-353%2c369-370&HDR=G1&STB=T&VW=T) are collected from Statistics Netherlands (CBS). CBS is a Dutch data collection institute that collects data for policy makers and researchers. For population growth real numbers are used to calculate the growth per period. For the quarterly inflation rate the database from the OECD ,[OECD.stat](http://stats.oecd.org/), is used. OECD is the organization for economic co-operation and development. The data on the unemployment rate are collected from [Eurostat](http://ec.europa.eu/eurostat), the economic database from the European Union. The data on the Dollar/Euro exchange rate also comes from Eurostat. The starting point is 2000, since that was the date that the euro was introduced as means of counting. The data on duration is extracted from [Delsen](www.ru.nl/publish/pages/516298/nice_12103.pdf). The duration of maximum unemployment benefits is given in weeks.\n",
    "\n"
   ]
  },
  {
   "cell_type": "markdown",
   "metadata": {},
   "source": [
    "## Importing libraries\n",
    "Below we import the libraries that will be used in this assignment."
   ]
  },
  {
   "cell_type": "code",
   "execution_count": 47,
   "metadata": {
    "collapsed": false
   },
   "outputs": [],
   "source": [
    "import pandas as pd\n",
    "import numpy as np\n",
    "import matplotlib.pylab as plt\n",
    "%matplotlib inline\n",
    "from matplotlib.pylab import rcParams\n",
    "rcParams['figure.figsize'] = 15, 6\n",
    "from pandas import Series\n",
    "from pandas import read_csv\n",
    "from matplotlib import pyplot\n",
    "from scipy import stats\n",
    "from statsmodels.formula.api import ols"
   ]
  },
  {
   "cell_type": "markdown",
   "metadata": {},
   "source": [
    "## [Data](https://github.com/julesperry/Assignments/blob/master/data.csv)\n",
    "In this part we describe the data that is used to answer the research question. Below you can see the complete dataset that is used for the calculations. It also shows the datatyes, this is useful to check if calculations will be possible. "
   ]
  },
  {
   "cell_type": "code",
   "execution_count": 88,
   "metadata": {
    "collapsed": false
   },
   "outputs": [
    {
     "name": "stdout",
     "output_type": "stream",
     "text": [
      "     Quarters   UE      POPL  GDP       BEN      ER  INF\n",
      "0    1-1-2000  3.3  0.158945  5.3  260.0000  0.9865  1.9\n",
      "1    4-1-2000  2.7  0.178228  4.8  260.0000  0.9332  2.1\n",
      "2    7-1-2000  2.9  0.247728  3.9  260.0000  0.9052  2.4\n",
      "3   10-1-2000  2.9  0.189003  3.0  260.0000  0.8683  2.8\n",
      "4    1-1-2001  2.6  0.152511  2.7  260.0000  0.9232  3.9\n",
      "5    4-1-2001  2.1  0.168929  2.7  260.0000  0.8725  4.4\n",
      "6    7-1-2001  2.0  0.229679  2.0  260.0000  0.8903  4.3\n",
      "7   10-1-2001  2.2  0.186267  1.2  260.0000  0.8959  4.0\n",
      "8    1-1-2002  2.8  0.116980 -0.2  260.0000  0.8766  3.8\n",
      "9    4-1-2002  2.6  0.114015  0.1  260.0000  0.9188  3.3\n",
      "10   7-1-2002  2.7  0.184160  0.6  260.0000  0.9838  3.2\n",
      "11  10-1-2002  2.9  0.125740 -0.1  260.0000  0.9994  2.8\n",
      "12   1-1-2003  3.7  0.083520  0.9  260.0000  1.0731  2.4\n",
      "13   4-1-2003  3.6  0.088670 -0.3  260.0000  1.1372  2.0\n",
      "14   7-1-2003  3.6  0.126223 -0.1  260.0000  1.1248  2.1\n",
      "15  10-1-2003  3.9  0.105240  0.7  260.0000  1.1890  1.9\n",
      "16   1-1-2004  4.8  0.029063  1.5  260.0000  1.2497  1.2\n",
      "17   4-1-2004  4.7  0.059947  1.9  260.0000  1.2046  1.4\n",
      "18   7-1-2004  4.2  0.104956  2.3  260.0000  1.2220  1.1\n",
      "19  10-1-2004  4.6  0.097860  2.5  260.0000  1.2977  1.3\n",
      "20   1-1-2005  5.3  0.011996  1.0  260.0000  1.3113  1.6\n",
      "21   4-1-2005  4.8  0.031360  2.3  260.0000  1.2594  1.5\n",
      "22   7-1-2005  4.4  0.091825  2.7  260.0000  1.2199  1.7\n",
      "23  10-1-2005  4.5  0.040637  2.6  260.0000  1.1884  1.8\n",
      "24   1-1-2006  4.5 -0.000735  3.8  164.6667  1.2023  1.1\n",
      "25   4-1-2006  3.9  0.015832  3.7  164.6667  1.2582  1.4\n",
      "26   7-1-2006  3.6  0.074930  3.2  164.6667  1.2743  1.2\n",
      "27  10-1-2006  3.6  0.055508  3.4  164.6667  1.2887  0.9\n",
      "28   1-1-2007  3.9  0.043239  3.3  164.6667  1.3106  1.6\n",
      "29   4-1-2007  3.2  0.057904  3.0  164.6667  1.3481  1.8\n",
      "30   7-1-2007  2.9  0.117878  4.1  164.6667  1.3738  1.3\n",
      "31  10-1-2007  2.8  0.070490  4.3  164.6667  1.4486  1.8\n",
      "32   1-1-2008  3.0  0.077145  3.2  164.6667  1.4976  2.1\n",
      "33   4-1-2008  2.8  0.102814  2.8  164.6667  1.5622  2.3\n",
      "34   7-1-2008  2.4  0.182076  1.7  164.6667  1.5050  3.2\n",
      "35  10-1-2008  2.6  0.127107 -0.8  164.6667  1.3180  2.3\n",
      "36   1-1-2009  3.2  0.096422 -4.2  164.6667  1.3029  1.9\n",
      "37   4-1-2009  3.3  0.115006 -4.9  164.6667  1.3632  1.6\n",
      "38   7-1-2009  3.4  0.205409 -3.7  164.6667  1.4303  0.3\n",
      "39  10-1-2009  3.8  0.123186 -2.3  164.6667  1.4779  0.9\n",
      "40   1-1-2010  4.9  0.084211  0.1  164.6667  1.3829  0.9\n",
      "41   4-1-2010  4.5  0.103611  1.8  164.6667  1.2708  1.0\n",
      "42   7-1-2010  4.3  0.196735  1.6  164.6667  1.2910  1.6\n",
      "43  10-1-2010  4.2  0.102135  2.1  164.6667  1.3583  1.7\n",
      "44   1-1-2011  5.2  0.108863  3.0  164.6667  1.3680  2.0\n",
      "45   4-1-2011  4.8  0.075681  2.2  164.6667  1.4391  2.2\n",
      "46   7-1-2011  4.8  0.194935  1.6  164.6667  1.4127  2.6\n",
      "47  10-1-2011  5.3  0.067408  0.1  164.6667  1.3482  2.5\n",
      "48   1-1-2012  5.9  0.043532 -1.2  164.6667  1.3108  2.4\n",
      "49   4-1-2012  5.7  0.042210 -0.6  164.6667  1.2814  2.1\n",
      "50   7-1-2012  5.7  0.166704 -1.3  164.6667  1.2502  2.5\n",
      "51  10-1-2012  6.2  0.041526 -1.1  164.6667  1.2967  2.8\n",
      "52   1-1-2013  7.2  0.032248 -1.5  164.6667  1.3206  3.0\n",
      "53   4-1-2013  7.2  0.042514 -1.2  164.6667  1.3062  2.7\n",
      "54   7-1-2013  7.4  0.166471 -0.4  164.6667  1.3242  2.8\n",
      "55  10-1-2013  7.5  0.054774  1.1  164.6667  1.3610  1.6\n",
      "\n",
      " Data Types:\n",
      "Quarters     object\n",
      "UE          float64\n",
      "POPL        float64\n",
      "GDP         float64\n",
      "BEN         float64\n",
      "ER          float64\n",
      "INF         float64\n",
      "dtype: object\n"
     ]
    }
   ],
   "source": [
    "data = pd.read_csv('data.csv')\n",
    "print data.head(56)\n",
    "print '\\n Data Types:'\n",
    "print data.dtypes"
   ]
  },
  {
   "cell_type": "markdown",
   "metadata": {},
   "source": [
    "Because our dataset consists of multiple observations over time, we need to tell python that we are working with time series. This is done below."
   ]
  },
  {
   "cell_type": "code",
   "execution_count": 96,
   "metadata": {
    "collapsed": false
   },
   "outputs": [
    {
     "name": "stdout",
     "output_type": "stream",
     "text": [
      "Quarters\n",
      "2000-01-01    3.3\n",
      "2000-04-01    2.7\n",
      "2000-07-01    2.9\n",
      "2000-10-01    2.9\n",
      "2001-01-01    2.6\n",
      "Name: UE, dtype: float64\n"
     ]
    }
   ],
   "source": [
    "series = Series.from_csv('Data.csv', header = 0)\n",
    "print(series.head()) "
   ]
  },
  {
   "cell_type": "code",
   "execution_count": 97,
   "metadata": {
    "collapsed": false,
    "scrolled": true
   },
   "outputs": [
    {
     "name": "stdout",
     "output_type": "stream",
     "text": [
      "<class 'pandas.core.frame.DataFrame'>\n",
      "             UE      POPL  GDP    BEN      ER  INF\n",
      "Quarters                                          \n",
      "2000-01-01  3.3  0.158945  5.3  260.0  0.9865  1.9\n",
      "2000-04-01  2.7  0.178228  4.8  260.0  0.9332  2.1\n",
      "2000-07-01  2.9  0.247728  3.9  260.0  0.9052  2.4\n",
      "2000-10-01  2.9  0.189003  3.0  260.0  0.8683  2.8\n",
      "2001-01-01  2.6  0.152511  2.7  260.0  0.9232  3.9\n",
      "2001-04-01  2.1  0.168929  2.7  260.0  0.8725  4.4\n",
      "2001-07-01  2.0  0.229679  2.0  260.0  0.8903  4.3\n",
      "2001-10-01  2.2  0.186267  1.2  260.0  0.8959  4.0\n",
      "2002-01-01  2.8  0.116980 -0.2  260.0  0.8766  3.8\n",
      "2002-04-01  2.6  0.114015  0.1  260.0  0.9188  3.3\n",
      "2002-07-01  2.7  0.184160  0.6  260.0  0.9838  3.2\n",
      "2002-10-01  2.9  0.125740 -0.1  260.0  0.9994  2.8\n",
      "2003-01-01  3.7  0.083520  0.9  260.0  1.0731  2.4\n",
      "2003-04-01  3.6  0.088670 -0.3  260.0  1.1372  2.0\n",
      "2003-07-01  3.6  0.126223 -0.1  260.0  1.1248  2.1\n",
      "2003-10-01  3.9  0.105240  0.7  260.0  1.1890  1.9\n",
      "2004-01-01  4.8  0.029063  1.5  260.0  1.2497  1.2\n",
      "2004-04-01  4.7  0.059947  1.9  260.0  1.2046  1.4\n",
      "2004-07-01  4.2  0.104956  2.3  260.0  1.2220  1.1\n",
      "2004-10-01  4.6  0.097860  2.5  260.0  1.2977  1.3\n"
     ]
    }
   ],
   "source": [
    "series = read_csv('data.csv', header=0, parse_dates=[0], index_col=0, squeeze=False)\n",
    "print(type(series))\n",
    "print(series.head(20))"
   ]
  },
  {
   "cell_type": "markdown",
   "metadata": {},
   "source": [
    "## Descriptive statistics\n",
    "To be able to do a clear analysis of the problem, it is good to first have a clear view on the data that is used. Therefor we have a brief look at our data.\n",
    "Number of observations:"
   ]
  },
  {
   "cell_type": "code",
   "execution_count": 51,
   "metadata": {
    "collapsed": false
   },
   "outputs": [
    {
     "name": "stdout",
     "output_type": "stream",
     "text": [
      "336\n"
     ]
    }
   ],
   "source": [
    "print(series.size)"
   ]
  },
  {
   "cell_type": "markdown",
   "metadata": {},
   "source": [
    "The mean and standard deviations of the variables:"
   ]
  },
  {
   "cell_type": "code",
   "execution_count": 52,
   "metadata": {
    "collapsed": false
   },
   "outputs": [
    {
     "name": "stdout",
     "output_type": "stream",
     "text": [
      "              UE       POPL        GDP         BEN         ER        INF\n",
      "count  56.000000  56.000000  56.000000   56.000000  56.000000  56.000000\n",
      "mean    4.062500   0.105558   1.266071  205.523829   1.228832   2.125000\n",
      "std     1.379534   0.059768   2.211152   47.604705   0.187051   0.901968\n",
      "min     2.000000  -0.000735  -4.900000  164.666700   0.868300   0.300000\n",
      "25%     2.900000   0.057305  -0.125000  164.666700   1.134100   1.575000\n",
      "50%     3.850000   0.102474   1.650000  164.666700   1.285050   2.000000\n",
      "75%     4.800000   0.154119   2.850000  260.000000   1.350725   2.625000\n",
      "max     7.500000   0.247728   5.300000  260.000000   1.562200   4.400000\n"
     ]
    }
   ],
   "source": [
    "print(series.describe())"
   ]
  },
  {
   "cell_type": "markdown",
   "metadata": {},
   "source": [
    "The variable that is the most important for the analysis is the unemployment rate. Figure 1 shows the unemployment rate in The Netherlands between 2000 and 2013. The vertical line shows the [time](www.ru.nl/publish/pages/516298/nice_12103.pdf) at which the duration of the unemployment benefits was lowered from 260 to 164.67 weeks. The graph shows that there is a change in pattern after the change. This gives us reason to further investigate the effect."
   ]
  },
  {
   "cell_type": "code",
   "execution_count": 113,
   "metadata": {
    "collapsed": false,
    "scrolled": true
   },
   "outputs": [
    {
     "data": {
      "image/png": "[encoded data removed]",
      "text/plain": [
       "<matplotlib.figure.Figure at 0xe74b128>"
      ]
     },
     "metadata": {},
     "output_type": "display_data"
    }
   ],
   "source": [
    "series = Series.from_csv('data.csv', header=0)\n",
    "pyplot.plot(series, 'r')\n",
    "plt.ylabel('Unemployment rate')\n",
    "plt.xlabel('Year')\n",
    "plt.title('Figure 1: Unemployment rate')\n",
    "plt.axvline(x='2006-01-01')\n",
    "pyplot.show()"
   ]
  },
  {
   "cell_type": "markdown",
   "metadata": {},
   "source": [
    "## Analysis\n",
    "To investigate the effect of the duration of unemployment beneifts on the unemploymentrate we need to do a multiple linear regression. The main variable that is of interest to us is BEN."
   ]
  },
  {
   "cell_type": "code",
   "execution_count": 114,
   "metadata": {
    "collapsed": false,
    "scrolled": true
   },
   "outputs": [
    {
     "name": "stdout",
     "output_type": "stream",
     "text": [
      "                            OLS Regression Results                            \n",
      "==============================================================================\n",
      "Dep. Variable:             np.log(UE)   R-squared:                       0.406\n",
      "Model:                            OLS   Adj. R-squared:                  0.347\n",
      "Method:                 Least Squares   F-statistic:                     6.843\n",
      "Date:                Thu, 26 Jan 2017   Prob (F-statistic):           6.22e-05\n",
      "Time:                        13:23:06   Log-Likelihood:                -2.3034\n",
      "No. Observations:                  56   AIC:                             16.61\n",
      "Df Residuals:                      50   BIC:                             28.76\n",
      "Df Model:                           5                                         \n",
      "Covariance Type:            nonrobust                                         \n",
      "==============================================================================\n",
      "                 coef    std err          t      P>|t|      [95.0% Conf. Int.]\n",
      "------------------------------------------------------------------------------\n",
      "Intercept      1.5857      0.724      2.190      0.033         0.131     3.040\n",
      "GDP           -0.0315      0.017     -1.861      0.069        -0.066     0.002\n",
      "POPL          -2.3468      0.681     -3.445      0.001        -3.715    -0.978\n",
      "ER             0.2098      0.367      0.572      0.570        -0.527     0.947\n",
      "BEN           -0.0006      0.001     -0.492      0.625        -0.003     0.002\n",
      "INFL          -0.0396      0.051     -0.769      0.446        -0.143     0.064\n",
      "==============================================================================\n",
      "Omnibus:                        1.357   Durbin-Watson:                   0.332\n",
      "Prob(Omnibus):                  0.507   Jarque-Bera (JB):                1.195\n",
      "Skew:                           0.350   Prob(JB):                        0.550\n",
      "Kurtosis:                       2.851   Cond. No.                     5.00e+03\n",
      "==============================================================================\n",
      "\n",
      "Warnings:\n",
      "[1] Standard Errors assume that the covariance matrix of the errors is correctly specified.\n",
      "[2] The condition number is large,  5e+03. This might indicate that there are\n",
      "strong multicollinearity or other numerical problems.\n"
     ]
    }
   ],
   "source": [
    " \n",
    "data = pd.read_csv('data.csv')\n",
    "INFL = data['INF']\n",
    "model = ols('np.log(UE) ~ GDP + POPL + ER + BEN + INFL', data).fit()\n",
    "print(model.summary())"
   ]
  },
  {
   "cell_type": "markdown",
   "metadata": {},
   "source": [
    "The results above show that the effect of the unemployment benefit duration (BEN) on the unemployment rate is not statistically significant. "
   ]
  },
  {
   "cell_type": "markdown",
   "metadata": {},
   "source": [
    "## Conclusion\n",
    "Based on our study of the effects from a policy change in 2006 in the Netherlands we can conclude that a change in the unemployment benefit duration has no statistically significant effect on the unepmloyment rate. We have no reason to believe that the policy change that was put in to practice in 2016 will have any effect on the unemployment rate. \n"
   ]
  },
  {
   "cell_type": "code",
   "execution_count": null,
   "metadata": {
    "collapsed": true
   },
   "outputs": [],
   "source": []
  }
 ],
 "metadata": {
  "anaconda-cloud": {},
  "kernelspec": {
   "display_name": "Python [Root]",
   "language": "python",
   "name": "Python [Root]"
  },
  "language_info": {
   "codemirror_mode": {
    "name": "ipython",
    "version": 2
   },
   "file_extension": ".py",
   "mimetype": "text/x-python",
   "name": "python",
   "nbconvert_exporter": "python",
   "pygments_lexer": "ipython2",
   "version": "2.7.12"
  }
 },
 "nbformat": 4,
 "nbformat_minor": 0
}
